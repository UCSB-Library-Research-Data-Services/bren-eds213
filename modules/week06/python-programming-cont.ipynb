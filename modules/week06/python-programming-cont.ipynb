{
 "cells": [
  {
   "cell_type": "markdown",
   "id": "2a30ebaa-4b19-4483-9a77-ece2a6b0bfba",
   "metadata": {},
   "source": [
    "To install the duckdb Python package:"
   ]
  },
  {
   "cell_type": "code",
   "execution_count": null,
   "id": "bec2de22-10ab-4ebe-bcd0-955444c5fa06",
   "metadata": {},
   "outputs": [],
   "source": [
    "%pip install duckdb"
   ]
  },
  {
   "cell_type": "markdown",
   "id": "140d911c-2a26-4378-85eb-7a3e8fa3dcdb",
   "metadata": {},
   "source": [
    "Common model: connect to database, get a cursor.  In Python, all database packages follow the DB-API standard, so they all look the same.  See course website for pointer to DB-API."
   ]
  },
  {
   "cell_type": "code",
   "execution_count": 1,
   "id": "caf77e09-b059-422f-a3d0-38e15d17bafd",
   "metadata": {},
   "outputs": [],
   "source": [
    "import duckdb"
   ]
  },
  {
   "cell_type": "code",
   "execution_count": 2,
   "id": "b788d521-f11d-4e96-8714-0aef31a913f8",
   "metadata": {},
   "outputs": [],
   "source": [
    "conn = duckdb.connect(\"database.db\")"
   ]
  },
  {
   "cell_type": "markdown",
   "id": "c448cf64-52dd-4538-9aa4-5195ec499e90",
   "metadata": {},
   "source": [
    "Cursor mediates access to query, getting results.  Can deal with one query at a time."
   ]
  },
  {
   "cell_type": "code",
   "execution_count": 3,
   "id": "096bbbe4-b4ea-46f2-ab27-77ac92bfb62a",
   "metadata": {},
   "outputs": [],
   "source": [
    "cur = conn.cursor()"
   ]
  },
  {
   "cell_type": "markdown",
   "id": "d71c45b3-a818-4c15-8b15-12db8b327ce7",
   "metadata": {},
   "source": [
    "Get all results.  Cursor is streaming mechanism, does not store results."
   ]
  },
  {
   "cell_type": "code",
   "execution_count": 4,
   "id": "5bbd6bd4-7c4b-46c6-83cc-218e28fcaf28",
   "metadata": {},
   "outputs": [
    {
     "data": {
      "text/plain": [
       "[(2005,\n",
       "  'bylo',\n",
       "  'lmckinnon',\n",
       "  datetime.date(2005, 6, 1),\n",
       "  datetime.date(2005, 8, 5)),\n",
       " (2005,\n",
       "  'bylo',\n",
       "  'blalibert',\n",
       "  datetime.date(2005, 6, 1),\n",
       "  datetime.date(2005, 8, 20)),\n",
       " (2006,\n",
       "  'bylo',\n",
       "  'lmckinnon',\n",
       "  datetime.date(2006, 6, 1),\n",
       "  datetime.date(2006, 8, 5))]"
      ]
     },
     "execution_count": 4,
     "metadata": {},
     "output_type": "execute_result"
    }
   ],
   "source": [
    "cur.execute(\"SELECT * FROM Camp_assignment LIMIT 3\")\n",
    "cur.fetchall()"
   ]
  },
  {
   "cell_type": "code",
   "execution_count": 5,
   "id": "ddda253f-db9a-482a-a922-75376d4236af",
   "metadata": {},
   "outputs": [
    {
     "data": {
      "text/plain": [
       "[]"
      ]
     },
     "execution_count": 5,
     "metadata": {},
     "output_type": "execute_result"
    }
   ],
   "source": [
    "cur.fetchall()"
   ]
  },
  {
   "cell_type": "markdown",
   "id": "1c35f2c7-cab7-4594-8fb2-b376d8bbb223",
   "metadata": {},
   "source": [
    "Or get one row at a time"
   ]
  },
  {
   "cell_type": "code",
   "execution_count": 6,
   "id": "99248c39-0da9-4464-a0c6-d7c699ae47c2",
   "metadata": {},
   "outputs": [
    {
     "data": {
      "text/plain": [
       "(2005,\n",
       " 'bylo',\n",
       " 'lmckinnon',\n",
       " datetime.date(2005, 6, 1),\n",
       " datetime.date(2005, 8, 5))"
      ]
     },
     "execution_count": 6,
     "metadata": {},
     "output_type": "execute_result"
    }
   ],
   "source": [
    "cur.execute(\"SELECT * FROM Camp_assignment LIMIT 3\")\n",
    "cur.fetchone()"
   ]
  },
  {
   "cell_type": "code",
   "execution_count": 7,
   "id": "9ebc0a4b-615b-4c47-aec0-3a3e177f2531",
   "metadata": {},
   "outputs": [
    {
     "data": {
      "text/plain": [
       "(2005,\n",
       " 'bylo',\n",
       " 'blalibert',\n",
       " datetime.date(2005, 6, 1),\n",
       " datetime.date(2005, 8, 20))"
      ]
     },
     "execution_count": 7,
     "metadata": {},
     "output_type": "execute_result"
    }
   ],
   "source": [
    "cur.fetchone()"
   ]
  },
  {
   "cell_type": "code",
   "execution_count": 8,
   "id": "a381c0d9-aef5-49f0-b611-e8eb33160291",
   "metadata": {},
   "outputs": [
    {
     "data": {
      "text/plain": [
       "(2006,\n",
       " 'bylo',\n",
       " 'lmckinnon',\n",
       " datetime.date(2006, 6, 1),\n",
       " datetime.date(2006, 8, 5))"
      ]
     },
     "execution_count": 8,
     "metadata": {},
     "output_type": "execute_result"
    }
   ],
   "source": [
    "cur.fetchone()"
   ]
  },
  {
   "cell_type": "code",
   "execution_count": 9,
   "id": "2995812c-8cf3-4d2b-9c3d-5f4f0deb59ac",
   "metadata": {},
   "outputs": [],
   "source": [
    "cur.fetchone()"
   ]
  },
  {
   "cell_type": "markdown",
   "id": "90e68b57-ff97-4337-97fe-9d0bc0a97fba",
   "metadata": {},
   "source": [
    "Extended example showing looping over cursor (DuckDB does not support direct iteration over cursor), using second cursor, using parameterized queries."
   ]
  },
  {
   "cell_type": "code",
   "execution_count": 11,
   "id": "f18238e0-a0e1-4f32-ae92-d9560d9a3deb",
   "metadata": {},
   "outputs": [
    {
     "name": "stdout",
     "output_type": "stream",
     "text": [
      "Observer mballvanzee gathered 2 nests\n",
      "Observer dkessler gathered 69 nests\n",
      "Observer bharrington gathered 245 nests\n",
      "Observer lmckinnon gathered 249 nests\n",
      "Observer dhodkinson gathered 15 nests\n",
      "Observer mbwunder gathered 4 nests\n",
      "Observer None gathered 0 nests\n",
      "Observer kkalasz gathered 12 nests\n",
      "Observer bhill gathered 55 nests\n",
      "Observer ssaalfeld gathered 13 nests\n",
      "Observer wenglish gathered 18 nests\n",
      "Observer lworing gathered 14 nests\n",
      "Observer vloverti gathered 54 nests\n",
      "Observer rlanctot gathered 40 nests\n",
      "Observer abankert gathered 17 nests\n",
      "Observer edastrous gathered 38 nests\n",
      "Observer jzamuido gathered 11 nests\n",
      "Observer amould gathered 42 nests\n",
      "Observer bkaselow gathered 4 nests\n",
      "Observer jflamarre gathered 43 nests\n"
     ]
    }
   ],
   "source": [
    "inner_query = \"\"\"\n",
    "   SELECT COUNT(*) AS num_nests\n",
    "   FROM Bird_nests\n",
    "   WHERE Observer = ?\n",
    "\"\"\"\n",
    "\n",
    "outer_query = \"\"\"\n",
    "   SELECT DISTINCT Observer FROM Bird_nests\n",
    "\"\"\"\n",
    "for row in cur.execute(outer_query).fetchall():\n",
    "    observer = row[0]\n",
    "    cur2 = conn.cursor()\n",
    "    cur2.execute(inner_query, [observer])\n",
    "    print(f\"Observer {observer} gathered {cur2.fetchone()[0]} nests\")"
   ]
  },
  {
   "cell_type": "markdown",
   "id": "36003878-77ed-4422-acc0-444bf2ad525e",
   "metadata": {},
   "source": [
    "# Pandas"
   ]
  },
  {
   "cell_type": "code",
   "execution_count": 12,
   "id": "093ba155-7c71-45be-88bc-c46d6841c346",
   "metadata": {},
   "outputs": [],
   "source": [
    "import pandas as pd"
   ]
  },
  {
   "cell_type": "code",
   "execution_count": 13,
   "id": "d6b8cf04-4493-4dae-9d1f-4ce1088b3c1c",
   "metadata": {},
   "outputs": [
    {
     "name": "stderr",
     "output_type": "stream",
     "text": [
      "/var/folders/rl/j368fbbx25l937pdxgzdpmxm0000gq/T/ipykernel_18456/2832309421.py:1: UserWarning: pandas only supports SQLAlchemy connectable (engine/connection) or database string URI or sqlite3 DBAPI2 connection. Other DBAPI2 objects are not tested. Please consider using SQLAlchemy.\n",
      "  df = pd.read_sql(\"SELECT * FROM Site\", conn)\n"
     ]
    }
   ],
   "source": [
    "df = pd.read_sql(\"SELECT * FROM Site\", conn)"
   ]
  },
  {
   "cell_type": "code",
   "execution_count": 14,
   "id": "d72e1fdb-02a1-4aab-be0e-34eb1ebe2306",
   "metadata": {},
   "outputs": [
    {
     "data": {
      "text/html": [
       "<div>\n",
       "<style scoped>\n",
       "    .dataframe tbody tr th:only-of-type {\n",
       "        vertical-align: middle;\n",
       "    }\n",
       "\n",
       "    .dataframe tbody tr th {\n",
       "        vertical-align: top;\n",
       "    }\n",
       "\n",
       "    .dataframe thead th {\n",
       "        text-align: right;\n",
       "    }\n",
       "</style>\n",
       "<table border=\"1\" class=\"dataframe\">\n",
       "  <thead>\n",
       "    <tr style=\"text-align: right;\">\n",
       "      <th></th>\n",
       "      <th>Code</th>\n",
       "      <th>Site_name</th>\n",
       "      <th>Location</th>\n",
       "      <th>Latitude</th>\n",
       "      <th>Longitude</th>\n",
       "      <th>Area</th>\n",
       "    </tr>\n",
       "  </thead>\n",
       "  <tbody>\n",
       "    <tr>\n",
       "      <th>0</th>\n",
       "      <td>barr</td>\n",
       "      <td>Barrow</td>\n",
       "      <td>Alaska, USA</td>\n",
       "      <td>71.300003</td>\n",
       "      <td>-156.600006</td>\n",
       "      <td>220.399994</td>\n",
       "    </tr>\n",
       "    <tr>\n",
       "      <th>1</th>\n",
       "      <td>burn</td>\n",
       "      <td>Burntpoint Creek</td>\n",
       "      <td>Ontario, Canada</td>\n",
       "      <td>55.200001</td>\n",
       "      <td>-84.300003</td>\n",
       "      <td>63.000000</td>\n",
       "    </tr>\n",
       "    <tr>\n",
       "      <th>2</th>\n",
       "      <td>bylo</td>\n",
       "      <td>Bylot Island</td>\n",
       "      <td>Nunavut, Canada</td>\n",
       "      <td>73.199997</td>\n",
       "      <td>-80.000000</td>\n",
       "      <td>723.599976</td>\n",
       "    </tr>\n",
       "    <tr>\n",
       "      <th>3</th>\n",
       "      <td>cakr</td>\n",
       "      <td>Cape Krusenstern</td>\n",
       "      <td>Alaska, USA</td>\n",
       "      <td>67.099998</td>\n",
       "      <td>-163.500000</td>\n",
       "      <td>54.099998</td>\n",
       "    </tr>\n",
       "    <tr>\n",
       "      <th>4</th>\n",
       "      <td>cari</td>\n",
       "      <td>Canning River Delta</td>\n",
       "      <td>Alaska, USA</td>\n",
       "      <td>70.099998</td>\n",
       "      <td>-145.800003</td>\n",
       "      <td>722.000000</td>\n",
       "    </tr>\n",
       "    <tr>\n",
       "      <th>5</th>\n",
       "      <td>chau</td>\n",
       "      <td>Chaun River Delta</td>\n",
       "      <td>Chukotka, Russia</td>\n",
       "      <td>68.800003</td>\n",
       "      <td>170.600006</td>\n",
       "      <td>248.199997</td>\n",
       "    </tr>\n",
       "    <tr>\n",
       "      <th>6</th>\n",
       "      <td>chur</td>\n",
       "      <td>Churchill</td>\n",
       "      <td>Manitoba, Canada</td>\n",
       "      <td>58.700001</td>\n",
       "      <td>-93.800003</td>\n",
       "      <td>866.900024</td>\n",
       "    </tr>\n",
       "    <tr>\n",
       "      <th>7</th>\n",
       "      <td>coat</td>\n",
       "      <td>Coats Island</td>\n",
       "      <td>Nunavut, Canada</td>\n",
       "      <td>62.900002</td>\n",
       "      <td>-82.500000</td>\n",
       "      <td>1239.099976</td>\n",
       "    </tr>\n",
       "    <tr>\n",
       "      <th>8</th>\n",
       "      <td>colv</td>\n",
       "      <td>Colville River Delta</td>\n",
       "      <td>Alaska, USA</td>\n",
       "      <td>70.400002</td>\n",
       "      <td>-150.699997</td>\n",
       "      <td>324.799988</td>\n",
       "    </tr>\n",
       "    <tr>\n",
       "      <th>9</th>\n",
       "      <td>eaba</td>\n",
       "      <td>East Bay</td>\n",
       "      <td>Nunavut, Canada</td>\n",
       "      <td>64.000000</td>\n",
       "      <td>-81.699997</td>\n",
       "      <td>1205.500000</td>\n",
       "    </tr>\n",
       "    <tr>\n",
       "      <th>10</th>\n",
       "      <td>iglo</td>\n",
       "      <td>Igloolik</td>\n",
       "      <td>Nunavut, Canada</td>\n",
       "      <td>69.400002</td>\n",
       "      <td>-81.599998</td>\n",
       "      <td>59.799999</td>\n",
       "    </tr>\n",
       "    <tr>\n",
       "      <th>11</th>\n",
       "      <td>ikpi</td>\n",
       "      <td>Ikpikpuk</td>\n",
       "      <td>Alaska, USA</td>\n",
       "      <td>70.599998</td>\n",
       "      <td>-154.699997</td>\n",
       "      <td>174.100006</td>\n",
       "    </tr>\n",
       "    <tr>\n",
       "      <th>12</th>\n",
       "      <td>lkri</td>\n",
       "      <td>Lower Khatanga River</td>\n",
       "      <td>Krasnoyarsk, Russia</td>\n",
       "      <td>72.900002</td>\n",
       "      <td>106.099998</td>\n",
       "      <td>270.899994</td>\n",
       "    </tr>\n",
       "    <tr>\n",
       "      <th>13</th>\n",
       "      <td>made</td>\n",
       "      <td>Mackenzie River Delta</td>\n",
       "      <td>Northwest Territories, Canada</td>\n",
       "      <td>69.400002</td>\n",
       "      <td>-135.000000</td>\n",
       "      <td>667.299988</td>\n",
       "    </tr>\n",
       "    <tr>\n",
       "      <th>14</th>\n",
       "      <td>nome</td>\n",
       "      <td>Nome</td>\n",
       "      <td>Alaska, USA</td>\n",
       "      <td>64.400002</td>\n",
       "      <td>-164.899994</td>\n",
       "      <td>90.099998</td>\n",
       "    </tr>\n",
       "    <tr>\n",
       "      <th>15</th>\n",
       "      <td>prba</td>\n",
       "      <td>Prudhoe Bay</td>\n",
       "      <td>Alaska, USA</td>\n",
       "      <td>70.300003</td>\n",
       "      <td>-148.600006</td>\n",
       "      <td>120.000000</td>\n",
       "    </tr>\n",
       "  </tbody>\n",
       "</table>\n",
       "</div>"
      ],
      "text/plain": [
       "    Code              Site_name                       Location   Latitude  \\\n",
       "0   barr                 Barrow                    Alaska, USA  71.300003   \n",
       "1   burn       Burntpoint Creek                Ontario, Canada  55.200001   \n",
       "2   bylo           Bylot Island                Nunavut, Canada  73.199997   \n",
       "3   cakr       Cape Krusenstern                    Alaska, USA  67.099998   \n",
       "4   cari    Canning River Delta                    Alaska, USA  70.099998   \n",
       "5   chau      Chaun River Delta               Chukotka, Russia  68.800003   \n",
       "6   chur              Churchill               Manitoba, Canada  58.700001   \n",
       "7   coat           Coats Island                Nunavut, Canada  62.900002   \n",
       "8   colv   Colville River Delta                    Alaska, USA  70.400002   \n",
       "9   eaba               East Bay                Nunavut, Canada  64.000000   \n",
       "10  iglo               Igloolik                Nunavut, Canada  69.400002   \n",
       "11  ikpi               Ikpikpuk                    Alaska, USA  70.599998   \n",
       "12  lkri   Lower Khatanga River            Krasnoyarsk, Russia  72.900002   \n",
       "13  made  Mackenzie River Delta  Northwest Territories, Canada  69.400002   \n",
       "14  nome                   Nome                    Alaska, USA  64.400002   \n",
       "15  prba            Prudhoe Bay                    Alaska, USA  70.300003   \n",
       "\n",
       "     Longitude         Area  \n",
       "0  -156.600006   220.399994  \n",
       "1   -84.300003    63.000000  \n",
       "2   -80.000000   723.599976  \n",
       "3  -163.500000    54.099998  \n",
       "4  -145.800003   722.000000  \n",
       "5   170.600006   248.199997  \n",
       "6   -93.800003   866.900024  \n",
       "7   -82.500000  1239.099976  \n",
       "8  -150.699997   324.799988  \n",
       "9   -81.699997  1205.500000  \n",
       "10  -81.599998    59.799999  \n",
       "11 -154.699997   174.100006  \n",
       "12  106.099998   270.899994  \n",
       "13 -135.000000   667.299988  \n",
       "14 -164.899994    90.099998  \n",
       "15 -148.600006   120.000000  "
      ]
     },
     "execution_count": 14,
     "metadata": {},
     "output_type": "execute_result"
    }
   ],
   "source": [
    "df"
   ]
  },
  {
   "cell_type": "code",
   "execution_count": null,
   "id": "528dcd48-6614-4f1f-b2ef-501079a366db",
   "metadata": {},
   "outputs": [],
   "source": []
  }
 ],
 "metadata": {
  "kernelspec": {
   "display_name": "Python 3 (ipykernel)",
   "language": "python",
   "name": "python3"
  },
  "language_info": {
   "codemirror_mode": {
    "name": "ipython",
    "version": 3
   },
   "file_extension": ".py",
   "mimetype": "text/x-python",
   "name": "python",
   "nbconvert_exporter": "python",
   "pygments_lexer": "ipython3",
   "version": "3.10.13"
  }
 },
 "nbformat": 4,
 "nbformat_minor": 5
}
